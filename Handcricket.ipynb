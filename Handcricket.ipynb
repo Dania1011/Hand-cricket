{
 "cells": [
  {
   "cell_type": "code",
   "execution_count": 6,
   "id": "9a441827-4e9a-42a7-a063-f88580e15bd3",
   "metadata": {},
   "outputs": [
    {
     "name": "stdout",
     "output_type": "stream",
     "text": [
      "Welcome to Hand Cricket!!\n",
      "Rules:\n",
      "\tChoose a number between 1 and 6. If your number matches the computer's, you are OUT.\n",
      "You are batting now\n"
     ]
    },
    {
     "name": "stdin",
     "output_type": "stream",
     "text": [
      "Enter a number for batting (1-6):  3\n"
     ]
    },
    {
     "name": "stdout",
     "output_type": "stream",
     "text": [
      "Computer bowled: 1\n",
      "Your score is: 3\n"
     ]
    },
    {
     "name": "stdin",
     "output_type": "stream",
     "text": [
      "Enter a number for batting (1-6):  4\n"
     ]
    },
    {
     "name": "stdout",
     "output_type": "stream",
     "text": [
      "Computer bowled: 2\n",
      "Your score is: 7\n"
     ]
    },
    {
     "name": "stdin",
     "output_type": "stream",
     "text": [
      "Enter a number for batting (1-6):  1\n"
     ]
    },
    {
     "name": "stdout",
     "output_type": "stream",
     "text": [
      "Computer bowled: 2\n",
      "Your score is: 8\n"
     ]
    },
    {
     "name": "stdin",
     "output_type": "stream",
     "text": [
      "Enter a number for batting (1-6):  4\n"
     ]
    },
    {
     "name": "stdout",
     "output_type": "stream",
     "text": [
      "Computer bowled: 4\n",
      "You are OUT\n",
      "Final user score: 8\n",
      "\n",
      "Computer is batting now\n"
     ]
    },
    {
     "name": "stdin",
     "output_type": "stream",
     "text": [
      "Enter a number for bowling (1-6):  5\n"
     ]
    },
    {
     "name": "stdout",
     "output_type": "stream",
     "text": [
      "Computer played: 5\n",
      "Computer is OUT\n",
      "Final computer score: 0\n",
      "\n",
      "Your score: 8\n",
      "Computer score: 0\n",
      "You won\n"
     ]
    }
   ],
   "source": [
    "import random\n",
    "\n",
    "class Handcricket:\n",
    "    def __init__(self):\n",
    "        self.user_score = 0\n",
    "        self.computer_score = 0\n",
    "\n",
    "    def welcome(self):\n",
    "        print(\"Welcome to Hand Cricket!!\")\n",
    "        print(\"Rules:\\n\\tChoose a number between 1 and 6. If your number matches the computer's, you are OUT.\")\n",
    "\n",
    "    def user_batting(self):\n",
    "        print(\"You are batting now\")\n",
    "        while True:\n",
    "            user_bat = int(input(\"Enter a number for batting (1-6): \"))\n",
    "            if user_bat < 1 or user_bat > 6:\n",
    "                print(\"Choose a number between 1 and 6\")\n",
    "                continue\n",
    "            bowl = random.randint(1, 6)\n",
    "            print(f'Computer bowled: {bowl}')\n",
    "            if user_bat == bowl:\n",
    "                print(\"You are OUT\")\n",
    "                break\n",
    "            else:\n",
    "                self.user_score += user_bat\n",
    "                print(f'Your score is: {self.user_score}')\n",
    "        print(f'Final user score: {self.user_score}\\n')\n",
    "\n",
    "    def computer_batting(self):\n",
    "        print(\"Computer is batting now\")\n",
    "        while True:\n",
    "            user_bowl = int(input(\"Enter a number for bowling (1-6): \"))\n",
    "            if user_bowl < 1 or user_bowl > 6:\n",
    "                print(\"Choose a number between 1 and 6\")\n",
    "                continue\n",
    "            bat = random.randint(1, 6)\n",
    "            print(f'Computer played: {bat}')\n",
    "            if user_bowl == bat:\n",
    "                print(\"Computer is OUT\")\n",
    "                break\n",
    "            else:\n",
    "                self.computer_score += bat\n",
    "                print(f'Computer score: {self.computer_score}')\n",
    "            if self.computer_score > self.user_score:\n",
    "                print(\"Computer has already beaten you!\")\n",
    "                break\n",
    "        print(f'Final computer score: {self.computer_score}\\n')\n",
    "\n",
    "    def display_result(self):\n",
    "        print(f'Your score: {self.user_score}')\n",
    "        print(f'Computer score: {self.computer_score}')\n",
    "        if self.user_score > self.computer_score:\n",
    "            print(\"You won\")\n",
    "        elif self.user_score < self.computer_score:\n",
    "            print(\"You lost\")\n",
    "        else:\n",
    "            print(\"It's a tie\")\n",
    "\n",
    "    def play_game(self):\n",
    "        self.welcome()\n",
    "        self.user_batting()\n",
    "        self.computer_batting()\n",
    "        self.display_result()\n",
    "\n",
    "if __name__ == \"__main__\":\n",
    "    game = Handcricket()\n",
    "    game.play_game()\n"
   ]
  }
 ],
 "metadata": {
  "kernelspec": {
   "display_name": "Python 3 (ipykernel)",
   "language": "python",
   "name": "python3"
  },
  "language_info": {
   "codemirror_mode": {
    "name": "ipython",
    "version": 3
   },
   "file_extension": ".py",
   "mimetype": "text/x-python",
   "name": "python",
   "nbconvert_exporter": "python",
   "pygments_lexer": "ipython3",
   "version": "3.12.7"
  }
 },
 "nbformat": 4,
 "nbformat_minor": 5
}
